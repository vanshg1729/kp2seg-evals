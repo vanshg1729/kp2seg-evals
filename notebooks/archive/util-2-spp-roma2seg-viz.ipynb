{
 "cells": [
  {
   "cell_type": "code",
   "execution_count": null,
   "metadata": {},
   "outputs": [],
   "source": [
    "# reload notebook automatically after changes to source python files\n",
    "%load_ext autoreload\n",
    "%autoreload 2\n",
    "\n",
    "# change base folder to parent\n",
    "import os\n",
    "if os.path.basename(os.getcwd()) == 'notebooks':\n",
    "    os.chdir('..')\n",
    "print(os.getcwd())\n",
    "\n",
    "import torch\n",
    "torch.hub.set_dir('/scratch/toponav/indoor-topo-loc/checkpoints/torchhub')\n",
    "print(torch.hub.get_dir())  "
   ]
  },
  {
   "cell_type": "code",
   "execution_count": null,
   "metadata": {},
   "outputs": [],
   "source": [
    "from pathlib import Path\n",
    "from configs.default import cfg\n",
    "from src.utils.viz_utils import load_image, plot_images\n",
    "\n",
    "eval_spp_config = 'configs/config_eval_spp_resz.yaml'\n",
    "cfg.merge_from_file(eval_spp_config)\n",
    "\n",
    "CURR_SCENE='e8e81396b6'\n",
    "# FRAME0_NAME, FRAME1_NAME = 'DSC05283', 'DSC05285' # 0-45\n",
    "# FRAME0_NAME, FRAME1_NAME = 'DSC05283', 'DSC05181' # 45-90\n",
    "# FRAME0_NAME, FRAME1_NAME = 'DSC05283', 'DSC05222' # 90-135\n",
    "FRAME0_NAME, FRAME1_NAME = 'DSC05283', 'DSC05214' # 135-180\n",
    "\n",
    "dslr_path = Path(cfg[\"DATASET\"][\"DATA_ROOT\"])\n",
    "segdata_orig_path = Path(cfg[\"DATASET\"][\"SEGDATA_ROOT\"])\n",
    "\n",
    "# load frames\n",
    "frame0_path = dslr_path / CURR_SCENE / f\"{FRAME0_NAME}.JPG\"\n",
    "frame1_path = dslr_path / CURR_SCENE / f\"{FRAME1_NAME}.JPG\"\n",
    "\n",
    "frame0 = load_image(frame0_path)\n",
    "frame1 = load_image(frame1_path)\n",
    "\n",
    "plot_images(frame0, frame1)\n",
    "\n",
    "\n",
    "frame0_segdata_path = segdata_orig_path / CURR_SCENE / f\"{FRAME0_NAME}.JPG.pkl\"\n",
    "frame1_segdata_path = segdata_orig_path / CURR_SCENE / f\"{FRAME1_NAME}.JPG.pkl\""
   ]
  },
  {
   "cell_type": "code",
   "execution_count": null,
   "metadata": {},
   "outputs": [],
   "source": [
    "import torch\n",
    "from PIL import Image\n",
    "import torch.nn.functional as F\n",
    "import numpy as np\n",
    "from romatch.utils.utils import tensor_to_pil\n",
    "\n",
    "from romatch import roma_outdoor, tiny_roma_v1_outdoor, roma_indoor\n",
    "\n",
    "device = torch.device('cuda' if torch.cuda.is_available() else 'cpu')\n",
    "\n",
    "im1_path = str(frame0_path)\n",
    "im2_path = str(frame1_path)\n",
    "save_path = \"plot_roma_indoor_0_45.png\"\n",
    "\n",
    "# Create model\n",
    "roma_model = roma_indoor(device=device, coarse_res=560, upsample_res=(864, 1152))\n",
    "roma_model.symmetric = False\n",
    "\n",
    "H, W = roma_model.get_output_resolution()\n",
    "\n",
    "# Match\n",
    "warp, certainty = roma_model.match(im1_path, im2_path, device=device)\n",
    "# Sample matches for estimation\n",
    "matches, certainty = roma_model.sample(warp, certainty)\n",
    "# Convert to pixel coordinates (RoMa produces matches in [-1,1]x[-1,1])\n",
    "kptsA, kptsB = roma_model.to_pixel_coordinates(matches, 336, 512, 336, 512)"
   ]
  }
 ],
 "metadata": {
  "kernelspec": {
   "display_name": "mast3r",
   "language": "python",
   "name": "python3"
  },
  "language_info": {
   "codemirror_mode": {
    "name": "ipython",
    "version": 3
   },
   "file_extension": ".py",
   "mimetype": "text/x-python",
   "name": "python",
   "nbconvert_exporter": "python",
   "pygments_lexer": "ipython3",
   "version": "3.11.11"
  }
 },
 "nbformat": 4,
 "nbformat_minor": 2
}
