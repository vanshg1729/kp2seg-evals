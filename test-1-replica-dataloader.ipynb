{
 "cells": [
  {
   "cell_type": "code",
   "execution_count": 1,
   "metadata": {},
   "outputs": [],
   "source": [
    "%load_ext autoreload\n",
    "%autoreload 2"
   ]
  },
  {
   "cell_type": "code",
   "execution_count": 5,
   "metadata": {},
   "outputs": [],
   "source": [
    "import os\n",
    "import torch\n",
    "\n",
    "import numpy as np\n",
    "import json\n",
    "from collections import defaultdict\n",
    "from tqdm import tqdm"
   ]
  },
  {
   "cell_type": "code",
   "execution_count": 3,
   "metadata": {},
   "outputs": [],
   "source": [
    "from configs.default import cfg\n",
    "import sys\n",
    "\n",
    "from src.datasets.replica_hard_iou_eval_interface import (\n",
    "    ReplicaHardIoUDataset,\n",
    ")\n",
    "from torch.utils.data import DataLoader"
   ]
  },
  {
   "cell_type": "code",
   "execution_count": 4,
   "metadata": {},
   "outputs": [],
   "source": [
    "eval_replica_config = \"configs/config_eval_replica.yaml\"\n",
    "cfg.merge_from_file(eval_replica_config)"
   ]
  },
  {
   "cell_type": "code",
   "execution_count": 7,
   "metadata": {},
   "outputs": [
    {
     "name": "stdout",
     "output_type": "stream",
     "text": [
      "DATASET:\n",
      "  DATA_ROOT: /scratch/rjayanti/toponav/indoor-topo-loc/datasets/replica-dataset/data\n",
      "  DATA_SOURCE: Replica\n",
      "  DINOV2_CACHED_ROOT: None\n",
      "  HEIGHT: 480\n",
      "  MAST3RLIKE_CACHED_ROOT: None\n",
      "  M_PRIME: 100\n",
      "  PAIRS_PATH: /scratch/rjayanti/toponav/indoor-topo-loc/datasets/replica-dataset/data/replica_pose_bins_subset.json\n",
      "  PAIRS_ROOT: None\n",
      "  RESIZE_H: None\n",
      "  RESIZE_W: None\n",
      "  SAM2_CACHED_ROOT: None\n",
      "  SAM_AMG_ROOT: None\n",
      "  SCENES: None\n",
      "  SCENES_VAL: None\n",
      "  SEGDATA_ROOT: /scratch/rjayanti/toponav/indoor-topo-loc/datasets/replica-dataset/data\n",
      "  TRANSFORMS_ROOT: None\n",
      "  WIDTH: 640\n",
      "DEBUG: False\n",
      "FEATURE_MATCHER:\n",
      "  DUAL_SOFTMAX:\n",
      "    TEMPERATURE: None\n",
      "    USE_DUSTBIN: None\n",
      "  SINKHORN:\n",
      "    DUSTBIN_SCORE_INIT: 1.0\n",
      "    NUM_IT: 50\n",
      "  TYPE: Sinkhorn\n",
      "MODEL: None\n",
      "RANDOM_SEED: 42\n",
      "SAVE_DIR: results/replica_val8_evals\n",
      "TRAINING:\n",
      "  ALT_LOSS_WEIGHT: 0\n",
      "  BATCH_SIZE: 36\n",
      "  EPOCHS: 20\n",
      "  GRAD_CLIP: 0.0\n",
      "  LOG_INTERVAL: None\n",
      "  LR: 0.0001\n",
      "  LR_STEP_GAMMA: None\n",
      "  LR_STEP_INTERVAL: None\n",
      "  NUM_GPUS: 1\n",
      "  NUM_WORKERS: 4\n",
      "  PREFETCH_FACTOR: 2\n",
      "  VAL_BATCHES: None\n",
      "  VAL_INTERVAL: None\n",
      "  WEIGHT_DECAY: 0.0001\n"
     ]
    }
   ],
   "source": [
    "print(cfg)"
   ]
  },
  {
   "cell_type": "code",
   "execution_count": 8,
   "metadata": {},
   "outputs": [
    {
     "name": "stdout",
     "output_type": "stream",
     "text": [
      "Evaluating 0 to 45 degrees\n",
      "Using overridden ref-query pairs: 2000\n"
     ]
    }
   ],
   "source": [
    "START_ANGLE, END_ANGLE = 0, 45\n",
    "print(f\"Evaluating {START_ANGLE} to {END_ANGLE} degrees\")\n",
    "\n",
    "subset_split_file = cfg['DATASET']['PAIRS_PATH']\n",
    "with open(subset_split_file, \"r\") as f:\n",
    "    subset_split = json.load(f)\n",
    "\n",
    "# build pairs by looking at X-Y split under each scene, ignore if not present\n",
    "ref_query_pairs = []\n",
    "\n",
    "for scene_id, scene_data in subset_split.items():\n",
    "    if f\"{START_ANGLE}-{END_ANGLE}\" in scene_data:\n",
    "        for pair_str in scene_data[f\"{START_ANGLE}-{END_ANGLE}\"]:\n",
    "            ref, query = pair_str.split(\"-\")\n",
    "            ref_query_pairs.append((scene_id, ref, query))\n",
    "\n",
    "# ref_query_pairs = ref_query_pairs[:10] # for testing that the whole pipeline works\n",
    "\n",
    "# # val_selected_scenes = [\"394a542a19\", \"9f79564dbf\", \"e8e81396b6\"]\n",
    "# val_dataset = ScanNetPPResizedHardIoUDataset(cfg, val_selected_scenes, None)\n",
    "\n",
    "val_dataset = ReplicaHardIoUDataset(cfg, None, ref_query_pairs)"
   ]
  },
  {
   "cell_type": "code",
   "execution_count": 13,
   "metadata": {},
   "outputs": [
    {
     "name": "stderr",
     "output_type": "stream",
     "text": [
      " 11%|█▏        | 227/2000 [18:51<2:34:26,  5.23s/it]"
     ]
    }
   ],
   "source": [
    "for i, data in enumerate(tqdm(val_dataset)):\n",
    "    pass\n",
    "    # if i > 0:\n",
    "    #     break\n",
    "    # scene_id = data['scene_id']\n",
    "    # gt_mat = torch.diag_embed(data['seg_corr_list_common'])\n",
    "    # gt_mat = gt_mat.detach().cpu().numpy()\n",
    "\n",
    "    # GT = gt_mat.astype(\"bool\")\n",
    "    # GTP = np.count_nonzero(GT.any(0))\n",
    "    \n",
    "    # if GTP == 0:\n",
    "    #     print(f\"GTP is zero at index = {i}: {GTP.shape = }\")\n",
    "    "
   ]
  },
  {
   "cell_type": "code",
   "execution_count": null,
   "metadata": {},
   "outputs": [],
   "source": []
  }
 ],
 "metadata": {
  "kernelspec": {
   "display_name": "mast3r",
   "language": "python",
   "name": "python3"
  },
  "language_info": {
   "codemirror_mode": {
    "name": "ipython",
    "version": 3
   },
   "file_extension": ".py",
   "mimetype": "text/x-python",
   "name": "python",
   "nbconvert_exporter": "python",
   "pygments_lexer": "ipython3",
   "version": "3.11.11"
  }
 },
 "nbformat": 4,
 "nbformat_minor": 2
}
